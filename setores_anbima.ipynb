{
 "cells": [
  {
   "cell_type": "code",
   "execution_count": null,
   "id": "04da0e9e",
   "metadata": {},
   "outputs": [],
   "source": [
    "import requests\n",
    "from bs4 import BeautifulSoup as bs\n",
    "import pandas as pd\n",
    "import numpy as np\n",
    "import datetime\n",
    "import re\n",
    "import sqlalchemy as sa\n",
    "from sqlalchemy import create_engine\n",
    "import pymysql\n",
    "from selenium import webdriver\n",
    "from selenium.webdriver.chrome.service import Service\n",
    "from webdriver_manager.chrome import ChromeDriverManager\n",
    "from webdriver_manager.firefox import GeckoDriverManager\n",
    "from selenium.webdriver.common.by import By\n",
    "from selenium.webdriver.common.keys import Keys\n",
    "from selenium.webdriver.common.action_chains import ActionChains\n",
    "from selenium.webdriver.support.ui import WebDriverWait \n",
    "from selenium.webdriver.support import expected_conditions as EC"
   ]
  },
  {
   "cell_type": "code",
   "execution_count": null,
   "id": "1a36a4c2",
   "metadata": {},
   "outputs": [],
   "source": [
    "#creating connection with MySQL datbase\n",
    "\n",
    "user = \"brenobertolucci\"\n",
    "password = \"Panda190322\"\n",
    "url_banco = \"brenobertolucci.mysql.pythonanywhere-services.com\"\n",
    "nome_db = \"brenobertolucci$dados_anbima\"\n",
    "conn_str = f\"mysql+pymysql://{user}:{password}@{url_banco}/{nome_db}\"\n",
    "engine = create_engine(conn_str)"
   ]
  },
  {
   "cell_type": "code",
   "execution_count": null,
   "id": "b51c5303",
   "metadata": {},
   "outputs": [],
   "source": [
    "def read_sql(query, engine):\n",
    "    with engine.begin() as conn:\n",
    "        results = pd.read_sql_query(sa.text(query), conn)\n",
    "    return results\n",
    "    \n",
    "def execute_sql(query, engine):\n",
    "    with engine.begin() as conn:\n",
    "        results = conn.execute(\n",
    "            sa.text(query)\n",
    "            )\n",
    "    return results\n",
    "\n",
    "def df_to_sql(df, table, engine):\n",
    "    with engine.begin() as conn:\n",
    "        df.to_sql(table ,conn, index = False, index_label = False, if_exists = \"append\") "
   ]
  },
  {
   "cell_type": "code",
   "execution_count": null,
   "id": "a74c85c4",
   "metadata": {},
   "outputs": [],
   "source": [
    "from webdriver_manager.chrome import ChromeDriverManager\n",
    "\n",
    "driver = webdriver.Chrome(executable_path=ChromeDriverManager().install())"
   ]
  },
  {
   "cell_type": "code",
   "execution_count": null,
   "id": "53abc1de",
   "metadata": {},
   "outputs": [],
   "source": [
    "#importing full df \n",
    "tabela_anbima = read_sql('select * from dados_anbima',engine)\n",
    "\n",
    "#selecting unique tickers\n",
    "lista_tickers = tabela_anbima[\"Ticker\"].unique()"
   ]
  },
  {
   "cell_type": "code",
   "execution_count": null,
   "id": "9ed974e0",
   "metadata": {},
   "outputs": [],
   "source": [
    "#webscrapping the sectors of all tickers\n",
    "\n",
    "dict_setores ={}\n",
    "\n",
    "for ticker in lista_tickers:\n",
    "    try:\n",
    "        driver.get(\"https://data.anbima.com.br/debentures\")\n",
    "        driver.implicitly_wait(20)\n",
    "        barra_busca = driver.find_element(By.XPATH, \"/html/body/div[2]/header/main/div/form/input\")\n",
    "        barra_busca.clear()\n",
    "        barra_busca.send_keys(ticker)\n",
    "        barra_busca.send_keys(Keys.ENTER)\n",
    "        setor = driver.find_element(By.XPATH, \"/html/body/div[2]/main/div[2]/div[1]/div[2]/ul/li/div[3]/div[1]/dl/dd\").text\n",
    "        dict_setores[ticker] = setor\n",
    "    except:\n",
    "         dict_setores[ticker] = \"Erro\"\n"
   ]
  },
  {
   "cell_type": "code",
   "execution_count": null,
   "id": "aee20924",
   "metadata": {},
   "outputs": [],
   "source": [
    "#creating a DF with tickers/sectors\n",
    "\n",
    "lista_setores =[]\n",
    "lista_tickers =[]\n",
    "\n",
    "for ticker in dict_setores:\n",
    "    lista_setores.append(dict_setores[ticker])\n",
    "    lista_tickers.append(ticker)\n",
    "    \n",
    "    \n",
    "tickers_setores = pd.DataFrame.from_dict({\"Ticker\":lista_tickers , \"Setor\":lista_setores})\n",
    "tickers_setores"
   ]
  },
  {
   "cell_type": "code",
   "execution_count": null,
   "id": "29aecea7",
   "metadata": {},
   "outputs": [],
   "source": [
    "#checking for erros\n",
    "mascara_erro = tickers_setores[\"Setor\"] == \"Erro\"\n",
    "mascara_erro2 = tickers_setores[\"Setor\"] == \"-\"\n",
    "tickers_setores[mascara_erro|mascara_erro2]"
   ]
  },
  {
   "cell_type": "code",
   "execution_count": null,
   "id": "f0bdcdea",
   "metadata": {},
   "outputs": [],
   "source": [
    "#correcting erros\n",
    "\n",
    "tickers_setores.iloc[76,1] = \"Transporte e Logística\"\n",
    "tickers_setores.iloc[392,1] = \"Transporte e Logística\"\n",
    "tickers_setores.iloc[259,1] = \"Papel e Celulose\""
   ]
  },
  {
   "cell_type": "code",
   "execution_count": null,
   "id": "1a88b93f",
   "metadata": {},
   "outputs": [],
   "source": [
    "#exporting files:\n",
    "\n",
    "#sql\n",
    "\n",
    "df_to_sql(setores,\"setores_anbima\",engine)"
   ]
  },
  {
   "cell_type": "code",
   "execution_count": null,
   "id": "178f310e",
   "metadata": {},
   "outputs": [],
   "source": [
    "tickers_setores.to_excel(\"data/setores.xlsx\")"
   ]
  },
  {
   "cell_type": "code",
   "execution_count": null,
   "id": "10dc2946",
   "metadata": {},
   "outputs": [],
   "source": [
    "setores = pd.read_excel(\"daily_files/setores.xlsx\")"
   ]
  },
  {
   "cell_type": "code",
   "execution_count": null,
   "id": "705f443e",
   "metadata": {},
   "outputs": [],
   "source": [
    "df_teste = read_sql('select * from setores_anbima',engine)"
   ]
  },
  {
   "cell_type": "code",
   "execution_count": null,
   "id": "cc282260",
   "metadata": {},
   "outputs": [],
   "source": [
    "df_teste"
   ]
  },
  {
   "cell_type": "code",
   "execution_count": null,
   "id": "55740c7c",
   "metadata": {},
   "outputs": [],
   "source": []
  }
 ],
 "metadata": {
  "kernelspec": {
   "display_name": "Python 3.10",
   "language": "python",
   "name": "python3.10"
  },
  "language_info": {
   "codemirror_mode": {
    "name": "ipython",
    "version": 3
   },
   "file_extension": ".py",
   "mimetype": "text/x-python",
   "name": "python",
   "nbconvert_exporter": "python",
   "pygments_lexer": "ipython3",
   "version": "3.10.5"
  }
 },
 "nbformat": 4,
 "nbformat_minor": 5
}
