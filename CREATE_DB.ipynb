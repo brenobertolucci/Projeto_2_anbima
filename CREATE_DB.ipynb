{
 "cells": [
  {
   "cell_type": "code",
   "execution_count": 1,
   "metadata": {},
   "outputs": [],
   "source": [
    "import requests\n",
    "from bs4 import BeautifulSoup as bs\n",
    "import pandas as pd\n",
    "import numpy as np\n",
    "import datetime\n",
    "import re\n",
    "import sqlalchemy as sa\n",
    "from sqlalchemy import create_engine\n",
    "import pymysql"
   ]
  },
  {
   "cell_type": "code",
   "execution_count": 2,
   "metadata": {},
   "outputs": [],
   "source": [
    "def read_sql(query, engine):\n",
    "    with engine.begin() as conn:\n",
    "        results = pd.read_sql_query(sa.text(query), conn)\n",
    "    return results\n",
    "    \n",
    "def execute_sql(query, engine):\n",
    "    with engine.begin() as conn:\n",
    "        results = conn.execute(\n",
    "            sa.text(query)\n",
    "            )\n",
    "    return results\n",
    "\n",
    "def df_to_sql(df, table, engine):\n",
    "    with engine.begin() as conn:\n",
    "        df.to_sql(table ,conn, index = False, index_label = False, if_exists = \"append\") "
   ]
  },
  {
   "cell_type": "code",
   "execution_count": 3,
   "metadata": {},
   "outputs": [],
   "source": [
    "user = \"brenobertolucci\"\n",
    "password = \"Panda190322\"\n",
    "url_banco = \"brenobertolucci.mysql.pythonanywhere-services.com\"\n",
    "nome_db = \"brenobertolucci$dados_anbima\"\n",
    "conn_str = f\"mysql+pymysql://{user}:{password}@{url_banco}/{nome_db}\"\n",
    "engine = create_engine(conn_str)"
   ]
  },
  {
   "cell_type": "code",
   "execution_count": 5,
   "metadata": {},
   "outputs": [
    {
     "data": {
      "text/plain": [
       "<sqlalchemy.engine.cursor.LegacyCursorResult at 0x7fda49a60f70>"
      ]
     },
     "execution_count": 5,
     "metadata": {},
     "output_type": "execute_result"
    }
   ],
   "source": [
    "#creating table on sql\n",
    "\n",
    "query_anbima = '''\n",
    "    CREATE TABLE dados_anbima (\n",
    "        ID varchar(255) NOT NULL PRIMARY KEY,\n",
    "        Data date NOT NULL,\n",
    "        Ticker varchar(255) NOT NULL,\n",
    "        Emissor varchar(255) NOT NULL,\n",
    "        Vencimento date,\n",
    "        Indexador varchar(255),\n",
    "        Cupom float ,\n",
    "        Taxa_Compra float,\n",
    "        Taxa_Indicativa float,\n",
    "        Taxa_Venda float,\n",
    "        PU float,\n",
    "        Perc_Par float,\n",
    "        Duration float,\n",
    "        Ref_B varchar(255),\n",
    "        Spread_Compra float,\n",
    "        Spread_Indicativo float,\n",
    "        Spread_Venda float        \n",
    "    )\n",
    "'''\n",
    "\n",
    "execute_sql(query_anbima, engine)"
   ]
  },
  {
   "cell_type": "code",
   "execution_count": 6,
   "metadata": {},
   "outputs": [
    {
     "data": {
      "text/plain": [
       "<sqlalchemy.engine.cursor.LegacyCursorResult at 0x7f34baed7e80>"
      ]
     },
     "execution_count": 6,
     "metadata": {},
     "output_type": "execute_result"
    }
   ],
   "source": [
    "query_setores = '''\n",
    "    CREATE TABLE dados_setores (\n",
    "        Ticker varchar(255) NOT NULL PRIMARY KEY,\n",
    "        Setores varchar(255) NOT NULL        \n",
    "    )\n",
    "'''\n",
    "\n",
    "execute_sql(query_setores, engine)"
   ]
  },
  {
   "cell_type": "code",
   "execution_count": null,
   "metadata": {},
   "outputs": [],
   "source": []
  }
 ],
 "metadata": {
  "kernelspec": {
   "display_name": "Python 3.10",
   "language": "python",
   "name": "python3.10"
  },
  "language_info": {
   "codemirror_mode": {
    "name": "ipython",
    "version": 3
   },
   "file_extension": ".py",
   "mimetype": "text/x-python",
   "name": "python",
   "nbconvert_exporter": "python",
   "pygments_lexer": "ipython3",
   "version": "3.10.5"
  }
 },
 "nbformat": 4,
 "nbformat_minor": 1
}
